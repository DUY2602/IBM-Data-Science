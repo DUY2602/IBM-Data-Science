{
 "cells": [
  {
   "cell_type": "markdown",
   "id": "9cde50fd-b595-4945-8874-23320cb8bd21",
   "metadata": {},
   "source": [
    "\n",
    "# 📊 Pandas in Python\n",
    "\n",
    "Pandas is a **powerful Python library** for data manipulation and analysis, providing data structures and functions to work with structured data like **DataFrames** and **Series**.  \n",
    "\n",
    "---\n",
    "\n",
    "### 🔹 Working with DataFrames\n",
    "\n",
    "* In Pandas, you use a **DataFrame (`df`)** to specify the files to read.\n",
    "* **DataFrames** consist of **rows and columns**.\n",
    "* You can create **new DataFrames** from one or more columns of an existing DataFrame.\n",
    "* You can work with data in a DataFrame and **save the results** in different formats (CSV, Excel, etc.).\n",
    "\n",
    "\n",
    "### 🔹 Useful Operations\n",
    "* Use the **.unique()** method to find the unique elements in a column of DataFrame\n",
    "* You can use the **inequality operator** along with `df` to assign Boolean values to a selected column.\n",
    "* You can **save a new DataFrame** as another DataFrame, which may contain values from an earlier one."
   ]
  },
  {
   "cell_type": "code",
   "execution_count": 32,
   "id": "78feb5f8-a66e-4fd5-87be-c3c31b1973a6",
   "metadata": {},
   "outputs": [],
   "source": [
    "import pandas as pd\n",
    "\n",
    "# Store the file path to a variable then use read_csv() to read the file\n",
    "# Other file type need to match the read function (csv, excel, json,...)\n",
    "csv_path = 'income.csv'\n",
    "df = pd.read_csv(csv_path)\n",
    "\n",
    "df.head()                   # Display the first 5 records\n",
    "\n",
    "name = df['Name']           # Get records of a field using that field name (can get multiple fields)\n",
    "\n",
    "first_index = df.iloc[0, 0]        # Output: Rob       iloc[row, column]\n",
    "first_income = df.loc[0, 'Income($)']       # Output: 70000          loc[row, column name]\n",
    "\n",
    "# Slicing DataFrame\n",
    "iloc_sliced = df.iloc[0:2, 0:2]         # Take the first 2 records and first 2 fields\n",
    "loc_sliced = df.loc[0:2, 'Name':'Age']\n",
    "\n",
    "# Unique records\n",
    "unique_age = df['Age'].unique()       # Output: A list of unique values in column Age\n",
    "\n",
    "# Example: To take out the records whose age is above 35\n",
    "flag = df['Age'] > 35        # Output: A list of True / False value\n",
    "accept = df[flag]            # DataFrame: the records where flag == True\n",
    "\n",
    "# Or can be done in 1 line\n",
    "result = df[df['Age'] > 35][['Name', 'Age', 'Income($)']]\n",
    "\n",
    "# Save the records to a new CSV file\n",
    "result.to_csv('age-above-35.csv', index=False)"
   ]
  },
  {
   "cell_type": "code",
   "execution_count": null,
   "id": "c79d7a10-2390-4ad2-bbdd-40e19fe35ff4",
   "metadata": {},
   "outputs": [],
   "source": []
  }
 ],
 "metadata": {
  "kernelspec": {
   "display_name": "Python [conda env:base] *",
   "language": "python",
   "name": "conda-base-py"
  },
  "language_info": {
   "codemirror_mode": {
    "name": "ipython",
    "version": 3
   },
   "file_extension": ".py",
   "mimetype": "text/x-python",
   "name": "python",
   "nbconvert_exporter": "python",
   "pygments_lexer": "ipython3",
   "version": "3.13.5"
  }
 },
 "nbformat": 4,
 "nbformat_minor": 5
}
