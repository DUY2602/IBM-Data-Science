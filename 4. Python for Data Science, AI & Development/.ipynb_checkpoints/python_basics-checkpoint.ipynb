{
 "cells": [
  {
   "cell_type": "markdown",
   "id": "eb9dd15d",
   "metadata": {},
   "source": [
    "### 📘 Data Types in Python\n",
    "- Python can distinguish among data types such as integers, floats, strings, and Booleans.\n",
    "- Integers are whole numbers that can be positive or negative.\n",
    "- Floats are numbers that have decimal points; they can represent whole or fractional values."
   ]
  },
  {
   "cell_type": "code",
   "execution_count": null,
   "id": "f4122d85",
   "metadata": {},
   "outputs": [],
   "source": [
    "# Integer\n",
    "a = -5\n",
    "print(a, type(a))\n",
    "\n",
    "# Float\n",
    "b = 3.14\n",
    "print(b, type(b))\n",
    "\n",
    "# String\n",
    "c = \"Hello\"\n",
    "print(c, type(c))\n",
    "\n",
    "# Boolean\n",
    "d = True\n",
    "print(d, type(d))"
   ]
  },
  {
   "cell_type": "markdown",
   "id": "661cf917",
   "metadata": {},
   "source": [
    "### 📘 Typecasting\n",
    "- You can convert integers to floats using typecasting and vice-versa.\n",
    "- You can convert integers and floats to strings.\n",
    "- You can convert an integer or float to a Boolean: 0 becomes False, non-zero becomes True."
   ]
  },
  {
   "cell_type": "code",
   "execution_count": null,
   "id": "d42ae701",
   "metadata": {},
   "outputs": [],
   "source": [
    "print(float(10))     # 10 -> 10.0\n",
    "print(int(3.99))     # 3.99 -> 3\n",
    "print(str(42))       # \"42\"\n",
    "print(bool(0))       # False\n",
    "print(bool(-7))      # True"
   ]
  },
  {
   "cell_type": "markdown",
   "id": "5d8a6f3d",
   "metadata": {},
   "source": [
    "### 📘 Expressions and Operators\n",
    "- Expressions in Python are a combination of values and operations used to produce a single result.\n",
    "- Expressions perform mathematical operations such as addition, subtraction, multiplication, and so on.\n",
    "- We can use // to perform integer division, which results in an integer value by discarding the fractional part.  \n",
    "- Python follows the order of operations (BODMAS) to perform operations with multiple expressions."
   ]
  },
  {
   "cell_type": "code",
   "execution_count": null,
   "id": "3d0664e5",
   "metadata": {},
   "outputs": [],
   "source": [
    "print(5 + 3)    # 8\n",
    "print(7 - 2)    # 5\n",
    "print(6 * 4)    # 24\n",
    "print(7 / 3)    # 2.333...\n",
    "print(7 // 3)   # 2\n",
    "print(2 + 3 * 4)  # 14 (BODMAS)"
   ]
  },
  {
   "cell_type": "markdown",
   "id": "12c15d60",
   "metadata": {},
   "source": [
    "### 📘 Variables\n",
    "- Variables store and manipulate data, allowing you to access and modify values throughout your code.\n",
    "- The assignment operator \"=\" assigns a value to a variable.\n",
    "- Assigning another value to the same variable overrides the previous value of that variable.\n",
    "- You can perform mathematical operations on variables using the same or different variables.\n",
    "- Modifying the value of one variable will affect other variables only if they reference the same mutable object."
   ]
  },
  {
   "cell_type": "code",
   "execution_count": null,
   "id": "2cb4341c",
   "metadata": {},
   "outputs": [],
   "source": [
    "x = 10\n",
    "print(x)\n",
    "\n",
    "x = 20   # override\n",
    "print(x)\n",
    "\n",
    "y = x + 5\n",
    "print(y)"
   ]
  },
  {
   "cell_type": "markdown",
   "id": "de46483c",
   "metadata": {},
   "source": [
    "### 📘 Strings\n",
    "- Python string operations involve manipulating text data using tasks such as indexing, concatenation, slicing, and formatting.\n",
    "- A string is usually written within double quotes or single quotes, including letters, white space, digits, or special characters.\n",
    "- A string can be assigned to a variable and is an ordered sequence of characters.\n",
    "- Characters in a string identify their index numbers, which can be positive or negative.\n",
    "- Strings are sequences that support operations like indexing and slicing.\n",
    "- You can input a stride value to perform slicing while operating on a string.\n",
    "- Operations like concatenation and replication produce new strings, while finding the length of a string returns a number.\n",
    "- You cannot modify an existing string; they are immutable."
   ]
  },
  {
   "cell_type": "code",
   "execution_count": null,
   "id": "79df73f6",
   "metadata": {},
   "outputs": [],
   "source": [
    "s = \"Python\"\n",
    "print(s[0])    # P\n",
    "print(s[-1])   # n\n",
    "print(s[0:4])  # Pyth\n",
    "print(s[::2])  # Pto\n",
    "print(s + \" Rocks\")   # Concatenation\n",
    "print(s * 3)          # Replication\n",
    "print(len(s))         # Length"
   ]
  },
  {
   "cell_type": "markdown",
   "id": "e52c38e1",
   "metadata": {},
   "source": [
    "### 📘 Escape Sequences\n",
    "- You can use escape sequences with a backslash (\\) to change the layout of a string.\n",
    "  For example, \\n for a new line, \\t for a tab, and \\\\ for a backslash."
   ]
  },
  {
   "cell_type": "code",
   "execution_count": null,
   "id": "f6dc0981",
   "metadata": {},
   "outputs": [],
   "source": [
    "print(\"Hello\\nWorld\")\n",
    "print(\"Hello\\tWorld\")\n",
    "print(\"This is a backslash: \\\\\")"
   ]
  },
  {
   "cell_type": "markdown",
   "id": "3377c930",
   "metadata": {},
   "source": [
    "### 📘 String Methods\n",
    "- In Python, you perform tasks such as searching, modifying, and formatting text data with its pre-built string methods.\n",
    "- You apply a method to a string to change its value, resulting in another string. \n",
    "- You can perform actions such as changing the case of characters in a string, replacing items in a string, finding items in a string, and so on using pre-built string methods."
   ]
  },
  {
   "cell_type": "code",
   "execution_count": null,
   "id": "bd58eeb0",
   "metadata": {},
   "outputs": [],
   "source": [
    "text = \"hello world\"\n",
    "print(text.upper())        # HELLO WORLD\n",
    "print(text.capitalize())   # Hello world\n",
    "print(text.replace(\"world\", \"Python\"))  # hello Python\n",
    "print(text.find(\"lo\"))     # 3\n",
    "print(\"123\".isdigit())     # True"
   ]
  }
 ],
 "metadata": {},
 "nbformat": 4,
 "nbformat_minor": 5
}