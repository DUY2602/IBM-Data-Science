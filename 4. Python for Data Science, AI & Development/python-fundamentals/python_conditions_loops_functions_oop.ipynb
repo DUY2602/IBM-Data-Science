{
 "cells": [
  {
   "cell_type": "markdown",
   "id": "88f7471e",
   "metadata": {},
   "source": [
    "# Python: Conditions, Loops, Functions, Scope, Exception Handling, and OOP\n",
    "\n",
    "## Table of Contents\n",
    "1. Conditions & Branching\n",
    "2. Loops\n",
    "3. Functions\n",
    "4. Variable Scope\n",
    "5. Exception Handling\n",
    "6. Object-Oriented Programming\n"
   ]
  },
  {
   "cell_type": "markdown",
   "id": "ca61b66c",
   "metadata": {},
   "source": [
    "## 1. Conditions & Branching\n",
    "\n",
    "- Python conditions use `if` statements to execute code based on true/false conditions created by comparisons and Boolean expressions.\n",
    "- Comparison operations require using comparison operators such as `==` (equal to), `>` (greater than), and `<` (less than).\n",
    "- Python uses the `!=` operator to determine whether two values are not equal.\n",
    "- You can compare integers, strings, and floats.\n",
    "- Python branching directs program flow by using conditional statements (for example, `if`, `else`, `elif`) to execute different code blocks based on conditions or tests.\n"
   ]
  },
  {
   "cell_type": "code",
   "execution_count": 4,
   "id": "a2e9cf8a",
   "metadata": {},
   "outputs": [
    {
     "name": "stdout",
     "output_type": "stream",
     "text": [
      "x is positive\n"
     ]
    }
   ],
   "source": [
    "# Example: Conditions & Branching\n",
    "x = 10\n",
    "if x > 0:\n",
    "    print(\"x is positive\")\n",
    "elif x == 0:\n",
    "    print(\"x is zero\")\n",
    "else:\n",
    "    print(\"x is negative\")"
   ]
  },
  {
   "cell_type": "markdown",
   "id": "50121038",
   "metadata": {},
   "source": [
    "## 2. Loops\n",
    "\n",
    "- Python loops are control structures that automate repetitive tasks and iterate over data structures like lists or dictionaries.\n",
    "- The `range()` function generates a sequence of numbers with a specified start, stop, and step value for loops in Python.\n",
    "- A `for` loop in Python iterates over a sequence, such as a list, tuple, or string, and executes a block of code for each item in the sequence.\n",
    "- A `while` loop in Python executes a block of code as long as a specified condition remains true.\n"
   ]
  },
  {
   "cell_type": "code",
   "execution_count": 6,
   "id": "a9921a5f",
   "metadata": {},
   "outputs": [
    {
     "name": "stdout",
     "output_type": "stream",
     "text": [
      "Iteration: 0\n",
      "Iteration: 1\n",
      "Iteration: 2\n",
      "Iteration: 3\n",
      "Iteration: 4\n",
      "Count: 0\n",
      "Count: 1\n",
      "Count: 2\n"
     ]
    }
   ],
   "source": [
    "# Example: For loop with range\n",
    "for i in range(5):\n",
    "    print(\"Iteration:\", i)\n",
    "\n",
    "# Example: While loop\n",
    "count = 0\n",
    "while count < 3:\n",
    "    print(\"Count:\", count)\n",
    "    count += 1"
   ]
  },
  {
   "cell_type": "markdown",
   "id": "e20cd9e3",
   "metadata": {},
   "source": [
    "## 3. Functions\n",
    "\n",
    "- Python functions are reusable code blocks that perform specific tasks, take input parameters, and often return results, enhancing code modularity and reusability.\n",
    "- Python has a set of built-in functions such as `len`, `sum`, and `sorted`.\n",
    "- You can also create your own functions in Python using the `def` keyword.\n",
    "- Functions can have multiple parameters, and if no return is provided, they return `None` by default.\n",
    "- Use the `pass` keyword for placeholder functions.\n"
   ]
  },
  {
   "cell_type": "code",
   "execution_count": 8,
   "id": "21e75207",
   "metadata": {},
   "outputs": [
    {
     "name": "stdout",
     "output_type": "stream",
     "text": [
      "Length: 4\n",
      "Sum: 10\n",
      "Hello, Alice!\n"
     ]
    }
   ],
   "source": [
    "# Example: Built-in function\n",
    "numbers = [1, 2, 3, 4]\n",
    "print(\"Length:\", len(numbers))\n",
    "print(\"Sum:\", sum(numbers))\n",
    "\n",
    "# Example: User-defined function\n",
    "def greet(name):\n",
    "    \"\"\"This function greets the user.\"\"\"\n",
    "    return f\"Hello, {name}!\"\n",
    "\n",
    "print(greet(\"Alice\"))"
   ]
  },
  {
   "cell_type": "markdown",
   "id": "1d2455be",
   "metadata": {},
   "source": [
    "## 4. Variable Scope\n",
    "\n",
    "- The scope of a variable determines where you can access or modify that variable.\n",
    "- Global scope allows access from anywhere, while local scope restricts it to a block or function.\n"
   ]
  },
  {
   "cell_type": "code",
   "execution_count": 10,
   "id": "30179a82",
   "metadata": {},
   "outputs": [
    {
     "name": "stdout",
     "output_type": "stream",
     "text": [
      "Inside function: local\n",
      "Outside function: global\n"
     ]
    }
   ],
   "source": [
    "# Example: Variable scope\n",
    "x = \"global\"\n",
    "\n",
    "def my_function():\n",
    "    x = \"local\"\n",
    "    print(\"Inside function:\", x)\n",
    "\n",
    "my_function()\n",
    "print(\"Outside function:\", x)"
   ]
  },
  {
   "cell_type": "markdown",
   "id": "060ba1a2",
   "metadata": {},
   "source": [
    "## 5. Exception Handling\n",
    "\n",
    "- Exception handling prevents programs from crashing by catching and managing errors.\n",
    "- Use `try-except` blocks to handle exceptions.\n",
    "- `try-except-else-finally` provides additional control: \n",
    "  - `else` executes when no exception occurs.\n",
    "  - `finally` always executes, regardless of exceptions.\n"
   ]
  },
  {
   "cell_type": "code",
   "execution_count": 12,
   "id": "e6dfecea",
   "metadata": {},
   "outputs": [
    {
     "name": "stdout",
     "output_type": "stream",
     "text": [
      "Cannot divide by zero!\n",
      "Execution finished.\n"
     ]
    }
   ],
   "source": [
    "# Example: Exception handling\n",
    "try:\n",
    "    result = 10 / 0\n",
    "except ZeroDivisionError:\n",
    "    print(\"Cannot divide by zero!\")\n",
    "else:\n",
    "    print(\"Division successful:\", result)\n",
    "finally:\n",
    "    print(\"Execution finished.\")"
   ]
  },
  {
   "cell_type": "markdown",
   "id": "93b55328",
   "metadata": {},
   "source": [
    "## 6. Object-Oriented Programming (OOP)\n",
    "\n",
    "- Objects are instances of classes that encapsulate data and behavior.\n",
    "- Classes are blueprints for creating objects, defining attributes and methods.\n",
    "- The `__init__` method initializes object attributes.\n",
    "- Methods are functions defined within a class and usually take `self` as their first parameter.\n"
   ]
  },
  {
   "cell_type": "code",
   "execution_count": 14,
   "id": "b4eb1418",
   "metadata": {},
   "outputs": [
    {
     "name": "stdout",
     "output_type": "stream",
     "text": [
      "Buddy says woof!\n",
      "Age: 3\n"
     ]
    }
   ],
   "source": [
    "# Example: Class and Object in Python\n",
    "class Dog:\n",
    "    def __init__(self, name, age):\n",
    "        self.name = name\n",
    "        self.age = age\n",
    "\n",
    "    def bark(self):\n",
    "        return f\"{self.name} says woof!\"\n",
    "\n",
    "# Create an instance of Dog\n",
    "dog1 = Dog(\"Buddy\", 3)\n",
    "print(dog1.bark())\n",
    "print(\"Age:\", dog1.age)"
   ]
  }
 ],
 "metadata": {
  "kernelspec": {
   "display_name": "Python [conda env:base] *",
   "language": "python",
   "name": "conda-base-py"
  },
  "language_info": {
   "codemirror_mode": {
    "name": "ipython",
    "version": 3
   },
   "file_extension": ".py",
   "mimetype": "text/x-python",
   "name": "python",
   "nbconvert_exporter": "python",
   "pygments_lexer": "ipython3",
   "version": "3.12.7"
  }
 },
 "nbformat": 4,
 "nbformat_minor": 5
}
