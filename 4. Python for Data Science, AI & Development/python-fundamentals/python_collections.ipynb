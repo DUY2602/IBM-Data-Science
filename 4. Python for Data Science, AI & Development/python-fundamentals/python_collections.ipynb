{
 "cells": [
  {
   "cell_type": "markdown",
   "id": "a910a101",
   "metadata": {},
   "source": [
    "\n",
    "# 📘 Tuples\n",
    "- Tuples are ordered and immutable collections of elements.  \n",
    "- Written as comma-separated elements in parentheses `()`.  \n",
    "- Can contain strings, integers, and floats; accessible with positive and negative indices.  \n",
    "- Support combining, concatenation, and slicing.  \n",
    "- Immutable → need new tuple to modify.  \n",
    "- Tuples can be nested.  \n",
    "- Elements in nested tuples accessed by indexing.  \n"
   ]
  },
  {
   "cell_type": "code",
   "execution_count": 1,
   "id": "bde0a43c",
   "metadata": {},
   "outputs": [
    {
     "name": "stdout",
     "output_type": "stream",
     "text": [
      "(1, 'apple', 3.14)\n",
      "1\n",
      "3.14\n",
      "(1, 'apple', 3.14, 2, 'banana')\n",
      "3\n"
     ]
    }
   ],
   "source": [
    "\n",
    "# Tuple creation\n",
    "t = (1, \"apple\", 3.14)\n",
    "print(t)\n",
    "\n",
    "# Access elements\n",
    "print(t[0])     # 1\n",
    "print(t[-1])    # 3.14\n",
    "\n",
    "# Concatenation\n",
    "t2 = (2, \"banana\")\n",
    "print(t + t2)\n",
    "\n",
    "# Nested tuple\n",
    "nested = (1, (2, 3), (4, 5))\n",
    "print(nested[1][1])   # 3\n"
   ]
  },
  {
   "cell_type": "markdown",
   "id": "9cc17590",
   "metadata": {},
   "source": [
    "\n",
    "# 📘 Lists\n",
    "- Lists contain ordered collections of items and are **mutable**.  \n",
    "- Written with square brackets `[]`.  \n",
    "- Can contain different types and can be nested.  \n",
    "- Accessible via positive/negative indexing.  \n",
    "- Concatenating/appending modifies the list.  \n",
    "- Support adding, deleting, splitting, etc.  \n",
    "- Aliasing: multiple names can refer to the same list.  \n",
    "- Cloning creates a copy.  \n"
   ]
  },
  {
   "cell_type": "code",
   "execution_count": 2,
   "id": "37030206",
   "metadata": {},
   "outputs": [
    {
     "name": "stdout",
     "output_type": "stream",
     "text": [
      "[1, 'apple', 3.14]\n",
      "1\n",
      "3.14\n",
      "[1, 'apple', 3.14, 'banana']\n",
      "[1, 'apple', 3.14, 'banana', 'new']\n",
      "[1, 'apple', 3.14, 'banana', 'new']\n",
      "[1, 'apple', 3.14, 'banana', 'new', 'clone']\n"
     ]
    }
   ],
   "source": [
    "\n",
    "# List creation\n",
    "lst = [1, \"apple\", 3.14]\n",
    "print(lst)\n",
    "\n",
    "# Accessing elements\n",
    "print(lst[0])\n",
    "print(lst[-1])\n",
    "\n",
    "# Modify list\n",
    "lst.append(\"banana\")\n",
    "print(lst)\n",
    "\n",
    "# Aliasing\n",
    "a = lst\n",
    "a.append(\"new\")\n",
    "print(lst)  # both updated\n",
    "\n",
    "# Cloning\n",
    "b = lst[:]\n",
    "b.append(\"clone\")\n",
    "print(lst)\n",
    "print(b)\n"
   ]
  },
  {
   "cell_type": "markdown",
   "id": "bba63a16",
   "metadata": {},
   "source": [
    "\n",
    "# 📘 Dictionaries\n",
    "- Dictionaries are key-value pairs.  \n",
    "- Defined with `{}`.  \n",
    "- Keys must be immutable and unique.  \n",
    "- Values can be mutable or immutable; duplicates allowed.  \n",
    "- Key-value pairs separated by commas.  \n",
    "- Access value with the key.  \n",
    "- Support add, delete, check key existence.  \n",
    "- Methods exist to obtain keys/values.  \n"
   ]
  },
  {
   "cell_type": "code",
   "execution_count": 3,
   "id": "6109b098",
   "metadata": {},
   "outputs": [
    {
     "name": "stdout",
     "output_type": "stream",
     "text": [
      "{'name': 'Alice', 'age': 25}\n",
      "Alice\n",
      "{'name': 'Alice', 'city': 'Hanoi'}\n",
      "True\n",
      "['name', 'city']\n",
      "['Alice', 'Hanoi']\n"
     ]
    }
   ],
   "source": [
    "\n",
    "# Dictionary creation\n",
    "d = {\"name\": \"Alice\", \"age\": 25}\n",
    "print(d)\n",
    "\n",
    "# Access value\n",
    "print(d[\"name\"])\n",
    "\n",
    "# Add and delete\n",
    "d[\"city\"] = \"Hanoi\"\n",
    "del d[\"age\"]\n",
    "print(d)\n",
    "\n",
    "# Check key\n",
    "print(\"name\" in d)\n",
    "\n",
    "# Keys and values\n",
    "print(list(d.keys()))\n",
    "print(list(d.values()))\n"
   ]
  },
  {
   "cell_type": "markdown",
   "id": "14f04e4a",
   "metadata": {},
   "source": [
    "\n",
    "# 📘 Sets\n",
    "- Sets are unordered collections of unique elements.  \n",
    "- Defined with `{}` or `set()`.  \n",
    "- No duplicate items.  \n",
    "- Can generate from list to remove duplicates.  \n",
    "- Support add/remove/verify operations.  \n",
    "- Use `&` for intersection, `|` or `.union()` for union.  \n",
    "- Subset check with `.issubset()`.  \n"
   ]
  },
  {
   "cell_type": "code",
   "execution_count": 4,
   "id": "b790762e",
   "metadata": {},
   "outputs": [
    {
     "name": "stdout",
     "output_type": "stream",
     "text": [
      "{1, 2, 3}\n",
      "{2, 4, 5}\n",
      "{1, 3, 6}\n",
      "{1, 2, 3, 4, 5, 6}\n",
      "set()\n",
      "True\n"
     ]
    }
   ],
   "source": [
    "\n",
    "# Set creation\n",
    "s = {1, 2, 3, 3}\n",
    "print(s)   # {1, 2, 3}\n",
    "\n",
    "# From list\n",
    "s2 = set([2, 2, 4, 5])\n",
    "print(s2)  # {2, 4, 5}\n",
    "\n",
    "# Add and remove\n",
    "s.add(6)\n",
    "s.remove(2)\n",
    "print(s)\n",
    "\n",
    "# Union and Intersection\n",
    "print(s | s2)   # union\n",
    "print(s & s2)   # intersection\n",
    "\n",
    "# Subset\n",
    "print({2, 4}.issubset(s2))\n"
   ]
  }
 ],
 "metadata": {
  "kernelspec": {
   "display_name": "Python [conda env:base] *",
   "language": "python",
   "name": "conda-base-py"
  },
  "language_info": {
   "codemirror_mode": {
    "name": "ipython",
    "version": 3
   },
   "file_extension": ".py",
   "mimetype": "text/x-python",
   "name": "python",
   "nbconvert_exporter": "python",
   "pygments_lexer": "ipython3",
   "version": "3.12.7"
  }
 },
 "nbformat": 4,
 "nbformat_minor": 5
}
