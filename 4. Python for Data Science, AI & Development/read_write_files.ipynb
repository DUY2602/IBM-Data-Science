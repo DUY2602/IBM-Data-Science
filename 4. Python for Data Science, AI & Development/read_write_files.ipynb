{
 "cells": [
  {
   "cell_type": "markdown",
   "id": "ea0f4514-deb6-4181-8847-bb3ba3e61a62",
   "metadata": {},
   "source": [
    "# Python File Handling\n",
    "\n",
    "## Open() function & file modes\n",
    "- `r` : read file - default mode\n",
    "- `w` : write file – rewrite the file with new contents\n",
    "- `a` : append file – append the new content to file\n",
    "- `r+` : read & write, but not deleting old content.\n",
    "- `w+` : read & write, but overwrite the file."
   ]
  },
  {
   "cell_type": "code",
   "execution_count": null,
   "id": "725f1a1e-696b-4303-9dad-86ae0d33230b",
   "metadata": {
    "scrolled": true
   },
   "outputs": [],
   "source": [
    "import random\n",
    "import datetime\n",
    "\n",
    "users = [\n",
    "    'DUYDO', 'DAVE', 'DODUCDUY', 'VPPHO', 'BINBEO'\n",
    "]\n",
    "\n",
    "logs = [\n",
    "    'ERROR', 'INFO', 'WARNING', 'FATAL', 'CRITICAL'\n",
    "]\n",
    "\n",
    "messages = [\n",
    "    'Authentication not success',\n",
    "    'New device login',\n",
    "    'Database sync failed',\n",
    "    'Connection timeout and expired',\n",
    "    'Cannot fetch API'\n",
    "]\n",
    "\n",
    "\n",
    "with open('sample.log', 'w') as log_file:\n",
    "    for i in range(20):\n",
    "        timestamp = datetime.datetime.now().strftime(\"%Y-%m-%d %H:%M:%S\")\n",
    "        user = random.choice(users)\n",
    "        log = random.choice(logs)\n",
    "        message = random.choice(messages)\n",
    "\n",
    "        line = f\"{timestamp} {user} {log} {message}\\n\"\n",
    "        log_file.write(line)\n",
    "        \n",
    "\n",
    "with open('sample.log', 'r') as log_file:\n",
    "    lines = log_file.readlines()\n",
    "    for line in lines:\n",
    "        print(line + \"\\n\")"
   ]
  }
 ],
 "metadata": {
  "kernelspec": {
   "display_name": "Python [conda env:base] *",
   "language": "python",
   "name": "conda-base-py"
  },
  "language_info": {
   "codemirror_mode": {
    "name": "ipython",
    "version": 3
   },
   "file_extension": ".py",
   "mimetype": "text/x-python",
   "name": "python",
   "nbconvert_exporter": "python",
   "pygments_lexer": "ipython3",
   "version": "3.13.5"
  }
 },
 "nbformat": 4,
 "nbformat_minor": 5
}
