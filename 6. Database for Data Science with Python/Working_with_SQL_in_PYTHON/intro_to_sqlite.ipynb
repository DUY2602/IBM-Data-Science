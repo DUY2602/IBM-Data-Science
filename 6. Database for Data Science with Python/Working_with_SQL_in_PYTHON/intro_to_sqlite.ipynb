{
 "cells": [
  {
   "cell_type": "markdown",
   "id": "e0348d0f",
   "metadata": {},
   "source": [
    "# 🗄️ SQLite – Lightweight Embedded Database\n",
    "\n",
    "## 📌 What is SQLite?\n",
    "**SQLite** is a self-contained, serverless, zero-configuration SQL database engine.  \n",
    "It is embedded directly into applications and stores data as a single `.db` file on disk.\n",
    "\n",
    "Unlike traditional database servers (e.g., MySQL, PostgreSQL), SQLite does **not require installation or running a separate service** — it works out of the box with minimal setup.\n",
    "\n",
    "---\n",
    "\n",
    "## ⚙️ Key Features\n",
    "- 📦 **Serverless** – no need for a separate database server process.  \n",
    "- 📁 **File-based** – data is stored in a single cross-platform file (`.db`).  \n",
    "- ⚡ **Lightweight & Fast** – ideal for small to medium-sized apps, prototyping, or testing.  \n",
    "- 🧰 **Fully SQL-compliant** – supports most of the SQL-92 standard.  \n",
    "- 🔌 **Built-in Python support** – usable via the `sqlite3` module without extra libraries.\n",
    "\n",
    "---"
   ]
  },
  {
   "cell_type": "code",
   "execution_count": 2,
   "id": "c23763cf",
   "metadata": {},
   "outputs": [
    {
     "name": "stdout",
     "output_type": "stream",
     "text": [
      "3.50.4\n"
     ]
    }
   ],
   "source": [
    "import sqlite3 as sql\n",
    "\n",
    "# Some Python already include sqlite3, check if it's included or not\n",
    "print(sql.sqlite_version)"
   ]
  },
  {
   "cell_type": "code",
   "execution_count": 4,
   "id": "04e07d04",
   "metadata": {},
   "outputs": [],
   "source": [
    "conn = sql.connect('Instruction.db')\n",
    "cursor = conn.cursor()"
   ]
  },
  {
   "cell_type": "code",
   "execution_count": 10,
   "id": "a9b91135",
   "metadata": {},
   "outputs": [
    {
     "data": {
      "text/plain": [
       "<sqlite3.Cursor at 0x21c4b792340>"
      ]
     },
     "execution_count": 10,
     "metadata": {},
     "output_type": "execute_result"
    }
   ],
   "source": [
    "table = '''\n",
    "        CREATE TABLE IF NOT EXISTS INSTRUCTOR(\n",
    "            ID INTEGER PRIMARY KEY NOT NULL, \n",
    "            FNAME VARCHAR(20), \n",
    "            LNAME VARCHAR(20), \n",
    "            CITY VARCHAR(20), \n",
    "            CCODE CHAR(3)\n",
    "            );\n",
    "'''\n",
    "cursor.execute(table)"
   ]
  },
  {
   "cell_type": "code",
   "execution_count": null,
   "id": "19d04f23",
   "metadata": {},
   "outputs": [],
   "source": [
    "cursor.execute('''insert into INSTRUCTOR values \n",
    "               (1, 'Rav', 'Ahuja', 'TORONTO', 'CAN'),\n",
    "               (2, 'Raul', 'Chong', 'Markham', 'CAN'), \n",
    "               (3, 'Hima', 'Vasudevan', 'Chicago', 'USA'),\n",
    "               (4, 'Duy', 'Do', 'Ho Chi Minh', 'VNA'),\n",
    "               (5, 'Cristiano', 'Ronaldo', 'Madeira', 'POR'),\n",
    "               (6, 'Kylian', 'Mbappe', 'Paris', 'FRA')\n",
    "               ''')\n",
    "\n",
    "conn.commit()"
   ]
  },
  {
   "cell_type": "code",
   "execution_count": 20,
   "id": "ac1c9673",
   "metadata": {},
   "outputs": [
    {
     "name": "stdout",
     "output_type": "stream",
     "text": [
      "All the records\n",
      "(1, 'Rav', 'Ahuja', 'TORONTO', 'CA')\n",
      "(2, 'Raul', 'Chong', 'Markham', 'CA')\n",
      "(3, 'Hima', 'Vasudevan', 'Chicago', 'US')\n",
      "\n",
      "Print the first 2 records\n",
      "(1, 'Rav', 'Ahuja', 'TORONTO', 'CA')\n",
      "(2, 'Raul', 'Chong', 'Markham', 'CA')\n"
     ]
    }
   ],
   "source": [
    "statement = '''SELECT * FROM INSTRUCTOR'''\n",
    "cursor.execute(statement)\n",
    "print(\"All the records\")\n",
    "output_all = cursor.fetchall()\n",
    "for row_all in output_all:\n",
    "  print(row_all)\n",
    "\n",
    "print(\"\\nPrint the first 2 records\")\n",
    "# If you want to fetch few rows from the table we use fetchmany(numberofrows) and mention the number how many rows you want to fetch\n",
    "statement = '''SELECT * FROM INSTRUCTOR'''\n",
    "cursor.execute(statement)\n",
    "output_many = cursor.fetchmany(2) \n",
    "for row_many in output_many:\n",
    "  print(row_many)"
   ]
  }
 ],
 "metadata": {
  "kernelspec": {
   "display_name": "Python 3",
   "language": "python",
   "name": "python3"
  },
  "language_info": {
   "codemirror_mode": {
    "name": "ipython",
    "version": 3
   },
   "file_extension": ".py",
   "mimetype": "text/x-python",
   "name": "python",
   "nbconvert_exporter": "python",
   "pygments_lexer": "ipython3",
   "version": "3.13.7"
  }
 },
 "nbformat": 4,
 "nbformat_minor": 5
}
