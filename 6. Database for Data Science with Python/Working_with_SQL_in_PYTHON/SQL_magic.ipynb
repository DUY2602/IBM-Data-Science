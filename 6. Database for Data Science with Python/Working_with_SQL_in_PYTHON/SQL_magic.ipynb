{
 "cells": [
  {
   "cell_type": "markdown",
   "id": "52195f71",
   "metadata": {},
   "source": [
    "# ✨ Key Characteristics of `ipython-sql`\n",
    "\n",
    "**`ipython-sql`** is an essential **extension** built for the IPython/Jupyter environment that streamlines database interaction for data analysts and scientists.\n",
    "\n",
    "## 🔑 Core Features\n",
    "\n",
    "| Characteristic | Description |\n",
    "| :--- | :--- |\n",
    "| **Multi-Database Support** | Connects to nearly all relational database management systems (PostgreSQL, MySQL, SQLite, Oracle, etc.) using **SQLAlchemy URLs** as the connection string format. |\n",
    "| **Magic Commands** | Leverages **IPython Magic Commands** (`%sql` for single-line and `%%sql` for cell blocks) to execute raw SQL directly, bypassing the need to write verbose Python code for database setup and querying. |\n",
    "| **Seamless Pandas Integration** | Query results are easily converted into a **Pandas DataFrame** via the `.DataFrame()` method, providing a perfect bridge for immediate Python analysis, manipulation, and visualization. |\n",
    "| **Session Management** | Allows users to manage and switch between multiple database connections within the same Notebook session effortlessly. |\n",
    "| **Clean Output Display** | SQL query results are automatically formatted into neat, readable tables directly within the Notebook output, making immediate data inspection easy. |"
   ]
  },
  {
   "cell_type": "code",
   "execution_count": null,
   "id": "d708cc87",
   "metadata": {},
   "outputs": [],
   "source": [
    "import csv, sqlite3 as sql\n",
    "\n",
    "conn = sql.connect(\"SQLiteMagic.db\")\n",
    "curr = conn.cursor()"
   ]
  }
 ],
 "metadata": {
  "kernelspec": {
   "display_name": "Python 3",
   "language": "python",
   "name": "python3"
  },
  "language_info": {
   "name": "python",
   "version": "3.12.10"
  }
 },
 "nbformat": 4,
 "nbformat_minor": 5
}
