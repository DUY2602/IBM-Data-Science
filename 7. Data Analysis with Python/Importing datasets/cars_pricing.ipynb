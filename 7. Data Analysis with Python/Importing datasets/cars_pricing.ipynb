{
 "cells": [
  {
   "cell_type": "markdown",
   "id": "1be1990e",
   "metadata": {},
   "source": [
    "# 🚗 Automobile Data Set\n",
    "\n",
    "The **Automobile Data Set** is an online dataset commonly used for data analysis and machine learning practice.  \n",
    "It contains various attributes related to cars such as price, engine size, horsepower, fuel type, and more — ideal for exploring **data cleaning**, **visualization**, and **modeling** techniques.\n",
    "\n",
    "---\n",
    "\n",
    "## 📂 Dataset Information\n",
    "- **📡 Data Source:** [UCI Machine Learning Repository – Automobile Data Set](https://archive.ics.uci.edu/ml/machine-learning-databases/autos/imports-85.data)  \n",
    "- **📁 Data Type:** CSV (Comma-Separated Values)  \n",
    "- **🧩 File Format Example:**"
   ]
  },
  {
   "cell_type": "code",
   "execution_count": 2,
   "id": "d23741fe",
   "metadata": {},
   "outputs": [],
   "source": [
    "# Import neccessary libraries\n",
    "\n",
    "import pandas as pd\n",
    "import numpy as np\n",
    "import requests\n",
    "from io import StringIO"
   ]
  },
  {
   "cell_type": "code",
   "execution_count": null,
   "id": "4f3344a1",
   "metadata": {},
   "outputs": [],
   "source": [
    "def download(url, filename):\n",
    "    response = requests.get(url)\n",
    "    if response.status_code == 200:\n",
    "        with open (filename, 'w', encoding='utf-8') as f:\n",
    "            f.write(response.text)\n",
    "    else:\n",
    "        print('Download failed: {response.status_code}')\n",
    "\n",
    "url = 'https://archive.ics.uci.edu/ml/machine-learning-databases/autos/imports-85.data'\n",
    "filename = 'cars.csv'\n",
    "\n",
    "download(url, filename)\n"
   ]
  },
  {
   "cell_type": "code",
   "execution_count": 12,
   "id": "73c6820c",
   "metadata": {},
   "outputs": [
    {
     "name": "stdout",
     "output_type": "stream",
     "text": [
      "headers\n",
      " ['symboling', 'normalized-losses', 'make', 'fuel-type', 'aspiration', 'num-of-doors', 'body-style', 'drive-wheels', 'engine-location', 'wheel-base', 'length', 'width', 'height', 'curb-weight', 'engine-type', 'num-of-cylinders', 'engine-size', 'fuel-system', 'bore', 'stroke', 'compression-ratio', 'horsepower', 'peak-rpm', 'city-mpg', 'highway-mpg', 'price']\n"
     ]
    }
   ],
   "source": [
    "df = pd.read_csv(filename)\n",
    "\n",
    "# create headers list\n",
    "headers = [\"symboling\",\"normalized-losses\",\"make\",\"fuel-type\",\"aspiration\", \"num-of-doors\",\"body-style\",\n",
    "         \"drive-wheels\",\"engine-location\",\"wheel-base\", \"length\",\"width\",\"height\",\"curb-weight\",\"engine-type\",\n",
    "         \"num-of-cylinders\", \"engine-size\",\"fuel-system\",\"bore\",\"stroke\",\"compression-ratio\",\"horsepower\",\n",
    "         \"peak-rpm\",\"city-mpg\",\"highway-mpg\",\"price\"]\n",
    "print(\"headers\\n\", headers)\n",
    "\n",
    "df.columns = headers\n",
    "\n",
    "df = df.replace('?', np.nan)\n",
    "df = df.dropna()\n",
    "\n",
    "df.to_csv('cars_after_erase_NaN.csv', index=False)"
   ]
  },
  {
   "cell_type": "code",
   "execution_count": null,
   "id": "00a9442e",
   "metadata": {},
   "outputs": [
    {
     "name": "stdout",
     "output_type": "stream",
     "text": [
      "===The first 5 rows===\n",
      "   symboling normalized-losses  make fuel-type aspiration num-of-doors  \\\n",
      "2          2               164  audi       gas        std         four   \n",
      "3          2               164  audi       gas        std         four   \n",
      "5          1               158  audi       gas        std         four   \n",
      "7          1               158  audi       gas      turbo         four   \n",
      "9          2               192   bmw       gas        std          two   \n",
      "\n",
      "  body-style drive-wheels engine-location  wheel-base  ...  engine-size  \\\n",
      "2      sedan          fwd           front        99.8  ...          109   \n",
      "3      sedan          4wd           front        99.4  ...          136   \n",
      "5      sedan          fwd           front       105.8  ...          136   \n",
      "7      sedan          fwd           front       105.8  ...          131   \n",
      "9      sedan          rwd           front       101.2  ...          108   \n",
      "\n",
      "   fuel-system  bore  stroke compression-ratio horsepower  peak-rpm city-mpg  \\\n",
      "2         mpfi  3.19    3.40              10.0        102      5500       24   \n",
      "3         mpfi  3.19    3.40               8.0        115      5500       18   \n",
      "5         mpfi  3.19    3.40               8.5        110      5500       19   \n",
      "7         mpfi  3.13    3.40               8.3        140      5500       17   \n",
      "9         mpfi  3.50    2.80               8.8        101      5800       23   \n",
      "\n",
      "  highway-mpg  price  \n",
      "2          30  13950  \n",
      "3          22  17450  \n",
      "5          25  17710  \n",
      "7          20  23875  \n",
      "9          29  16430  \n",
      "\n",
      "[5 rows x 26 columns]\n"
     ]
    }
   ],
   "source": [
    "print('===The first 5 rows===')\n",
    "print(df.head())"
   ]
  },
  {
   "cell_type": "code",
   "execution_count": null,
   "id": "661eec3d",
   "metadata": {},
   "outputs": [
    {
     "name": "stdout",
     "output_type": "stream",
     "text": [
      "===Statistic Description===\n",
      "<class 'pandas.core.frame.DataFrame'>\n",
      "Index: 159 entries, 2 to 203\n",
      "Data columns (total 26 columns):\n",
      " #   Column             Non-Null Count  Dtype  \n",
      "---  ------             --------------  -----  \n",
      " 0   symboling          159 non-null    int64  \n",
      " 1   normalized-losses  159 non-null    object \n",
      " 2   make               159 non-null    object \n",
      " 3   fuel-type          159 non-null    object \n",
      " 4   aspiration         159 non-null    object \n",
      " 5   num-of-doors       159 non-null    object \n",
      " 6   body-style         159 non-null    object \n",
      " 7   drive-wheels       159 non-null    object \n",
      " 8   engine-location    159 non-null    object \n",
      " 9   wheel-base         159 non-null    float64\n",
      " 10  length             159 non-null    float64\n",
      " 11  width              159 non-null    float64\n",
      " 12  height             159 non-null    float64\n",
      " 13  curb-weight        159 non-null    int64  \n",
      " 14  engine-type        159 non-null    object \n",
      " 15  num-of-cylinders   159 non-null    object \n",
      " 16  engine-size        159 non-null    int64  \n",
      " 17  fuel-system        159 non-null    object \n",
      " 18  bore               159 non-null    object \n",
      " 19  stroke             159 non-null    object \n",
      " 20  compression-ratio  159 non-null    float64\n",
      " 21  horsepower         159 non-null    object \n",
      " 22  peak-rpm           159 non-null    object \n",
      " 23  city-mpg           159 non-null    int64  \n",
      " 24  highway-mpg        159 non-null    int64  \n",
      " 25  price              159 non-null    object \n",
      "dtypes: float64(5), int64(5), object(16)\n",
      "memory usage: 33.5+ KB\n"
     ]
    }
   ],
   "source": [
    "print('===Statistic Description===')\n",
    "df.describe()"
   ]
  }
 ],
 "metadata": {
  "kernelspec": {
   "display_name": "Python 3",
   "language": "python",
   "name": "python3"
  },
  "language_info": {
   "codemirror_mode": {
    "name": "ipython",
    "version": 3
   },
   "file_extension": ".py",
   "mimetype": "text/x-python",
   "name": "python",
   "nbconvert_exporter": "python",
   "pygments_lexer": "ipython3",
   "version": "3.12.10"
  }
 },
 "nbformat": 4,
 "nbformat_minor": 5
}
