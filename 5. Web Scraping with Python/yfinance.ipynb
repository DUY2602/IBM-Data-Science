{
 "cells": [
  {
   "cell_type": "code",
   "execution_count": 1,
   "id": "30996b1e",
   "metadata": {},
   "outputs": [],
   "source": [
    "import yfinance as yf"
   ]
  },
  {
   "cell_type": "code",
   "execution_count": 7,
   "id": "324bd36a",
   "metadata": {},
   "outputs": [
    {
     "data": {
      "text/html": [
       "<div>\n",
       "<style scoped>\n",
       "    .dataframe tbody tr th:only-of-type {\n",
       "        vertical-align: middle;\n",
       "    }\n",
       "\n",
       "    .dataframe tbody tr th {\n",
       "        vertical-align: top;\n",
       "    }\n",
       "\n",
       "    .dataframe thead th {\n",
       "        text-align: right;\n",
       "    }\n",
       "</style>\n",
       "<table border=\"1\" class=\"dataframe\">\n",
       "  <thead>\n",
       "    <tr style=\"text-align: right;\">\n",
       "      <th></th>\n",
       "      <th>Open</th>\n",
       "      <th>High</th>\n",
       "      <th>Low</th>\n",
       "      <th>Close</th>\n",
       "      <th>Volume</th>\n",
       "      <th>Dividends</th>\n",
       "      <th>Stock Splits</th>\n",
       "    </tr>\n",
       "    <tr>\n",
       "      <th>Date</th>\n",
       "      <th></th>\n",
       "      <th></th>\n",
       "      <th></th>\n",
       "      <th></th>\n",
       "      <th></th>\n",
       "      <th></th>\n",
       "      <th></th>\n",
       "    </tr>\n",
       "  </thead>\n",
       "  <tbody>\n",
       "    <tr>\n",
       "      <th>2025-09-23 00:00:00-04:00</th>\n",
       "      <td>513.799988</td>\n",
       "      <td>514.590027</td>\n",
       "      <td>507.309998</td>\n",
       "      <td>509.230011</td>\n",
       "      <td>19799600</td>\n",
       "      <td>0.0</td>\n",
       "      <td>0.0</td>\n",
       "    </tr>\n",
       "    <tr>\n",
       "      <th>2025-09-24 00:00:00-04:00</th>\n",
       "      <td>510.380005</td>\n",
       "      <td>512.479980</td>\n",
       "      <td>506.920013</td>\n",
       "      <td>510.149994</td>\n",
       "      <td>13533700</td>\n",
       "      <td>0.0</td>\n",
       "      <td>0.0</td>\n",
       "    </tr>\n",
       "    <tr>\n",
       "      <th>2025-09-25 00:00:00-04:00</th>\n",
       "      <td>508.299988</td>\n",
       "      <td>510.010010</td>\n",
       "      <td>505.040009</td>\n",
       "      <td>507.029999</td>\n",
       "      <td>15748400</td>\n",
       "      <td>0.0</td>\n",
       "      <td>0.0</td>\n",
       "    </tr>\n",
       "  </tbody>\n",
       "</table>\n",
       "</div>"
      ],
      "text/plain": [
       "                                 Open        High         Low       Close  \\\n",
       "Date                                                                        \n",
       "2025-09-23 00:00:00-04:00  513.799988  514.590027  507.309998  509.230011   \n",
       "2025-09-24 00:00:00-04:00  510.380005  512.479980  506.920013  510.149994   \n",
       "2025-09-25 00:00:00-04:00  508.299988  510.010010  505.040009  507.029999   \n",
       "\n",
       "                             Volume  Dividends  Stock Splits  \n",
       "Date                                                          \n",
       "2025-09-23 00:00:00-04:00  19799600        0.0           0.0  \n",
       "2025-09-24 00:00:00-04:00  13533700        0.0           0.0  \n",
       "2025-09-25 00:00:00-04:00  15748400        0.0           0.0  "
      ]
     },
     "execution_count": 7,
     "metadata": {},
     "output_type": "execute_result"
    }
   ],
   "source": [
    "msft = yf.Ticker(\"MSFT\")\n",
    "msft_data = msft.history(period=\"3d\")\n",
    "\n",
    "msft_data.head()"
   ]
  }
 ],
 "metadata": {
  "kernelspec": {
   "display_name": "Python 3",
   "language": "python",
   "name": "python3"
  },
  "language_info": {
   "codemirror_mode": {
    "name": "ipython",
    "version": 3
   },
   "file_extension": ".py",
   "mimetype": "text/x-python",
   "name": "python",
   "nbconvert_exporter": "python",
   "pygments_lexer": "ipython3",
   "version": "3.13.7"
  }
 },
 "nbformat": 4,
 "nbformat_minor": 5
}
