{
 "cells": [
  {
   "cell_type": "code",
   "execution_count": 1,
   "id": "30996b1e",
   "metadata": {},
   "outputs": [],
   "source": [
    "import yfinance as yf\n",
    "import matplotlib.pyplot as plt"
   ]
  },
  {
   "cell_type": "markdown",
   "id": "f31fdc07",
   "metadata": {},
   "source": [
    "# 📊 yfinance – Financial Data for Python\n",
    "\n",
    "> **yfinance** is a Python library for retrieving real-time and historical market data directly from [Yahoo Finance](https://finance.yahoo.com/).  \n",
    "> It is widely used in financial analytics, trading strategies, and data science workflows.\n",
    "\n",
    "---\n",
    "\n",
    "## 🌟 Key Characteristics\n",
    "\n",
    "✅ **Easy to Use** – Simple API for downloading stock and market data.  \n",
    "✅ **Versatile Data** – Access historical prices, dividends, splits, and company fundamentals.  \n",
    "✅ **Multiple Assets** – Fetch data for stocks, ETFs, indices, crypto, and more.  \n",
    "✅ **Flexible Timeframes** – Choose custom date ranges and intervals.  \n",
    "✅ **Pandas Integration** – Returns data as `pandas` DataFrames for seamless analysis.  \n",
    "✅ **Batch Downloading** – Retrieve multiple tickers in one request."
   ]
  },
  {
   "cell_type": "code",
   "execution_count": 12,
   "id": "324bd36a",
   "metadata": {},
   "outputs": [
    {
     "name": "stdout",
     "output_type": "stream",
     "text": [
      "=== Historical Price Data ===\n",
      "                                 Open        High         Low       Close  \\\n",
      "Date                                                                        \n",
      "2024-09-27 00:00:00-04:00  428.304486  428.632044  424.284677  424.830566   \n",
      "2024-09-30 00:00:00-04:00  425.019144  427.212698  422.200311  427.093567   \n",
      "2024-10-01 00:00:00-04:00  425.257392  425.287167  415.689210  417.555206   \n",
      "2024-10-02 00:00:00-04:00  419.431099  419.669331  413.604845  414.021729   \n",
      "2024-10-03 00:00:00-04:00  414.518001  416.423677  411.202893  413.436127   \n",
      "\n",
      "                             Volume  Dividends  Stock Splits  \n",
      "Date                                                          \n",
      "2024-09-27 00:00:00-04:00  14896100        0.0           0.0  \n",
      "2024-09-30 00:00:00-04:00  16807300        0.0           0.0  \n",
      "2024-10-01 00:00:00-04:00  19092900        0.0           0.0  \n",
      "2024-10-02 00:00:00-04:00  16582300        0.0           0.0  \n",
      "2024-10-03 00:00:00-04:00  13686400        0.0           0.0  \n",
      "\n",
      "=== Company Information ===\n",
      "Name: Microsoft Corporation\n",
      "Sector: Technology\n",
      "Market Cap: 3801767215104\n",
      "\n",
      "=== Dividend History ===\n",
      "Date\n",
      "2024-08-15 00:00:00-04:00    0.75\n",
      "2024-11-21 00:00:00-05:00    0.83\n",
      "2025-02-20 00:00:00-05:00    0.83\n",
      "2025-05-15 00:00:00-04:00    0.83\n",
      "2025-08-21 00:00:00-04:00    0.83\n",
      "Name: Dividends, dtype: float64\n"
     ]
    }
   ],
   "source": [
    "# ✅ Create a Ticker object for Microsoft (MSFT is its stock symbol)\n",
    "msft = yf.Ticker(\"MSFT\")\n",
    "\n",
    "# 📈 Get 1 year of historical price data (daily interval)\n",
    "data = msft.history(period=\"1y\", interval=\"1d\")\n",
    "print(\"=== Historical Price Data ===\")\n",
    "print(data.head())\n",
    "\n",
    "# 🧠 Get company fundamentals (basic info)\n",
    "info = msft.info\n",
    "print(\"\\n=== Company Information ===\")\n",
    "print(\"Name:\", info[\"longName\"])\n",
    "print(\"Sector:\", info[\"sector\"])\n",
    "print(\"Market Cap:\", info[\"marketCap\"])\n",
    "\n",
    "# 💸 Get dividend payment history\n",
    "dividends = msft.dividends\n",
    "print(\"\\n=== Dividend History ===\")\n",
    "print(dividends.tail())\n"
   ]
  }
 ],
 "metadata": {
  "kernelspec": {
   "display_name": "Python 3",
   "language": "python",
   "name": "python3"
  },
  "language_info": {
   "codemirror_mode": {
    "name": "ipython",
    "version": 3
   },
   "file_extension": ".py",
   "mimetype": "text/x-python",
   "name": "python",
   "nbconvert_exporter": "python",
   "pygments_lexer": "ipython3",
   "version": "3.13.7"
  }
 },
 "nbformat": 4,
 "nbformat_minor": 5
}
