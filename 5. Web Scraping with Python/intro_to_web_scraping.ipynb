{
 "cells": [
  {
   "cell_type": "markdown",
   "id": "ee1bc46e",
   "metadata": {},
   "source": [
    "# Introduction\n",
    "Web scraping, also known as web harvesting or web data extraction, is a technique used to extract large amounts of data from websites. The data on websites is unstructured, and web scraping enables us to convert it into a structured form.\n",
    "\n",
    "## Importance of Web Scraping in Data Science\n",
    "In the field of data science, web scraping plays an integral role. It is used for various purposes such as:\n",
    "\n",
    "- **Data Collection**: Web scraping is a primary method of collecting data from the internet. This data can be used for analysis, research, etc.  \n",
    "- **Real-time Application**: Web scraping is used for real-time applications like weather updates, price comparison, etc.  \n",
    "- **Machine Learning**: Web scraping provides the data needed to train machine learning models.  \n",
    "\n",
    "## Web Scraping with Python\n",
    "Python provides several libraries for web scraping. Here are some of them:\n",
    "\n",
    "- **BeautifulSoup**: BeautifulSoup is a Python library used for web scraping purposes to pull the data out of HTML and XML files. It creates a parse tree from page source code that can be used to extract data in a hierarchical and more readable manner.  \n",
    "\n",
    "- **Scrapy**: Scrapy is an open-source and collaborative web crawling framework for Python. It is used to extract the data from the website.  \n",
    "\n",
    "- **Selenium**: Selenium is a tool used for controlling web browsers through programs and automating browser tasks.  \n",
    "\n",
    "## Applications of Web Scraping\n",
    "Web scraping is used in various fields and has many applications:\n",
    "\n",
    "- **Price Comparison**: Services such as ParseHub use web scraping to collect data from online shopping websites and use it to compare the prices of products.  \n",
    "- **Email address gathering**: Many companies that use email as a medium for marketing, use web scraping to collect email IDs and then send bulk emails.  \n",
    "- **Social Media Scraping**: Web scraping is used to collect data from social media websites such as Twitter to find out what's trending.  \n",
    "\n",
    "## Conclusion\n",
    "Web scraping is an essential skill in the fast-growing world of data science. It provides the ability to turn the web into a source of data that can be analyzed, processed, and used for a variety of applications. However, it's important to remember that one should use web scraping responsibly and ethically, respecting the terms of use or robots.txt files of the websites being scraped.\n"
   ]
  },
  {
   "cell_type": "code",
   "execution_count": 1,
   "id": "ad5993bc",
   "metadata": {},
   "outputs": [],
   "source": [
    "from bs4 import BeautifulSoup\n",
    "import requests"
   ]
  },
  {
   "cell_type": "code",
   "execution_count": 7,
   "id": "96f41697",
   "metadata": {},
   "outputs": [
    {
     "data": {
      "text/html": [
       "<!DOCTYPE html>\n",
       "<html>\n",
       "<head>\n",
       "<title>Page Title</title>\n",
       "</head>\n",
       "<body>\n",
       "<h3><b id='boldest'>Lebron James</b></h3>\n",
       "<p> Salary: $ 92,000,000 </p>\n",
       "<h3> Stephen Curry</h3>\n",
       "<p> Salary: $85,000, 000 </p>\n",
       "<h3> Kevin Durant </h3>\n",
       "<p> Salary: $73,200, 000</p>\n",
       "</body>\n",
       "</html>\n"
      ],
      "text/plain": [
       "<IPython.core.display.HTML object>"
      ]
     },
     "metadata": {},
     "output_type": "display_data"
    }
   ],
   "source": [
    "%%HTML\n",
    "<!DOCTYPE html>\n",
    "<html>\n",
    "<head>\n",
    "<title>Page Title</title>\n",
    "</head>\n",
    "<body>\n",
    "<h3><b id='boldest'>Lebron James</b></h3>\n",
    "<p> Salary: $ 92,000,000 </p>\n",
    "<h3> Stephen Curry</h3>\n",
    "<p> Salary: $85,000, 000 </p>\n",
    "<h3> Kevin Durant </h3>\n",
    "<p> Salary: $73,200, 000</p>\n",
    "</body>\n",
    "</html>"
   ]
  },
  {
   "cell_type": "code",
   "execution_count": null,
   "id": "d9685810",
   "metadata": {},
   "outputs": [],
   "source": [
    "html = \"<!DOCTYPE html><html><head><title>Page Title</title></head><body><h3><b id='boldest'>Lebron James</b></h3><p> Salary: $ 92,000,000 </p><h3> Stephen Curry</h3><p> Salary: $85,000, 000 </p><h3> Kevin Durant </h3><p> Salary: $73,200, 000</p></body></html>\"\n",
    "\n",
    "soup = BeautifulSoup(html, \"html.parser\")\n",
    "\n",
    "print(soup.prettify())"
   ]
  },
  {
   "cell_type": "code",
   "execution_count": 3,
   "id": "bf2563fc",
   "metadata": {},
   "outputs": [
    {
     "name": "stdout",
     "output_type": "stream",
     "text": [
      "tag object:  <title>Page Title</title>\n",
      "tag object type:  <class 'bs4.element.Tag'>\n",
      "tag object h3:  <h3><b id=\"boldest\">Lebron James</b></h3>\n",
      "child of h3:  <b id=\"boldest\">Lebron James</b>\n",
      "child attribute:  {'id': 'boldest'}\n",
      "parent of child h3:  <h3><b id=\"boldest\">Lebron James</b></h3>\n",
      "sibling 1:  <p> Salary: $ 92,000,000 </p>\n",
      "sibling 2:  <h3> Stephen Curry</h3>\n",
      "sibling 2 to string:   Stephen Curry\n"
     ]
    }
   ],
   "source": [
    "tag_object = soup.title\n",
    "print(\"tag object: \", tag_object)\n",
    "print(\"tag object type: \", type(tag_object))\n",
    "\n",
    "tag_object_h3 = soup.h3\n",
    "print(\"tag object h3: \", tag_object_h3)\n",
    "\n",
    "child_h3 = tag_object_h3.b\n",
    "print(\"child of h3: \", child_h3)\n",
    "\n",
    "child_attribute = child_h3.attrs\n",
    "print(\"child attribute: \", child_attribute)\n",
    "\n",
    "parent_of_child_h3 = child_h3.parent\n",
    "print(\"parent of child h3: \", parent_of_child_h3)\n",
    "\n",
    "sibling_1 = tag_object_h3.find_next_sibling()\n",
    "print(\"sibling 1: \", sibling_1)\n",
    "sibling_2 = sibling_1.find_next_sibling()\n",
    "print(\"sibling 2: \", sibling_2)\n",
    "\n",
    "sibling_2_string = sibling_2.string\n",
    "print(\"sibling 2 to string: \", sibling_2_string)\n"
   ]
  },
  {
   "cell_type": "code",
   "execution_count": 6,
   "id": "45be0956",
   "metadata": {},
   "outputs": [
    {
     "data": {
      "text/html": [
       "<table>\n",
       "  <tr>\n",
       "    <td id='flight' >Flight No</td>\n",
       "    <td>Launch site</td> \n",
       "    <td>Payload mass</td>\n",
       "   </tr>\n",
       "  <tr> \n",
       "    <td>1</td>\n",
       "    <td><a href='https://en.wikipedia.org/wiki/Florida'>Florida</a></td>\n",
       "    <td>300 kg</td>\n",
       "  </tr>\n",
       "  <tr>\n",
       "    <td>2</td>\n",
       "    <td><a href='https://en.wikipedia.org/wiki/Texas'>Texas</a></td>\n",
       "    <td>94 kg</td>\n",
       "  </tr>\n",
       "  <tr>\n",
       "    <td>3</td>\n",
       "    <td><a href='https://en.wikipedia.org/wiki/Florida'>Florida</a> </td>\n",
       "    <td>80 kg</td>\n",
       "  </tr>\n",
       "</table>\n"
      ],
      "text/plain": [
       "<IPython.core.display.HTML object>"
      ]
     },
     "metadata": {},
     "output_type": "display_data"
    }
   ],
   "source": [
    "%%html\n",
    "<table>\n",
    "  <tr>\n",
    "    <td id='flight' >Flight No</td>\n",
    "    <td>Launch site</td> \n",
    "    <td>Payload mass</td>\n",
    "   </tr>\n",
    "  <tr> \n",
    "    <td>1</td>\n",
    "    <td><a href='https://en.wikipedia.org/wiki/Florida'>Florida</a></td>\n",
    "    <td>300 kg</td>\n",
    "  </tr>\n",
    "  <tr>\n",
    "    <td>2</td>\n",
    "    <td><a href='https://en.wikipedia.org/wiki/Texas'>Texas</a></td>\n",
    "    <td>94 kg</td>\n",
    "  </tr>\n",
    "  <tr>\n",
    "    <td>3</td>\n",
    "    <td><a href='https://en.wikipedia.org/wiki/Florida'>Florida</a> </td>\n",
    "    <td>80 kg</td>\n",
    "  </tr>\n",
    "</table>"
   ]
  },
  {
   "cell_type": "code",
   "execution_count": null,
   "id": "8ebd4ffe",
   "metadata": {},
   "outputs": [],
   "source": [
    "table=\"<table><tr><td id='flight' >Flight No</td><td>Launch site</td><td>Payload mass</td></tr><tr><td>1</td><td><a href='https://en.wikipedia.org/wiki/Florida'>Florida</a></td><td>300 kg</td></tr><tr><td>2</td><td><a href='https://en.wikipedia.org/wiki/Texas'>Texas</a></td><td>94 kg</td></tr><tr><td>3</td><td><a href='https://en.wikipedia.org/wiki/Florida'>Florida</a> </td><td>80 kg</td></tr></table>\"\n",
    "\n",
    "table_bs = BeautifulSoup(table, \"html.parser\")\n",
    "print(table_bs.prettify())"
   ]
  },
  {
   "cell_type": "code",
   "execution_count": 13,
   "id": "8b17c66a",
   "metadata": {},
   "outputs": [
    {
     "name": "stdout",
     "output_type": "stream",
     "text": [
      "first row:  <tr><td id=\"flight\">Flight No</td><td>Launch site</td><td>Payload mass</td></tr>\n",
      "type of first row:  <class 'bs4.element.Tag'>\n",
      "first td in the row:  <td id=\"flight\">Flight No</td>\n",
      "Row  0 :  <tr><td id=\"flight\">Flight No</td><td>Launch site</td><td>Payload mass</td></tr>\n",
      "\tCell  0 :  <td id=\"flight\">Flight No</td>\n",
      "\tCell  1 :  <td>Launch site</td>\n",
      "\tCell  2 :  <td>Payload mass</td>\n",
      "Row  1 :  <tr><td>1</td><td><a href=\"https://en.wikipedia.org/wiki/Florida\">Florida</a></td><td>300 kg</td></tr>\n",
      "\tCell  0 :  <td>1</td>\n",
      "\tCell  1 :  <td><a href=\"https://en.wikipedia.org/wiki/Florida\">Florida</a></td>\n",
      "\tCell  2 :  <td>300 kg</td>\n",
      "Row  2 :  <tr><td>2</td><td><a href=\"https://en.wikipedia.org/wiki/Texas\">Texas</a></td><td>94 kg</td></tr>\n",
      "\tCell  0 :  <td>2</td>\n",
      "\tCell  1 :  <td><a href=\"https://en.wikipedia.org/wiki/Texas\">Texas</a></td>\n",
      "\tCell  2 :  <td>94 kg</td>\n",
      "Row  3 :  <tr><td>3</td><td><a href=\"https://en.wikipedia.org/wiki/Florida\">Florida</a> </td><td>80 kg</td></tr>\n",
      "\tCell  0 :  <td>3</td>\n",
      "\tCell  1 :  <td><a href=\"https://en.wikipedia.org/wiki/Florida\">Florida</a> </td>\n",
      "\tCell  2 :  <td>80 kg</td>\n",
      "find by id:  [<td id=\"flight\">Flight No</td>]\n",
      "find by link:  [<a href=\"https://en.wikipedia.org/wiki/Florida\">Florida</a>, <a href=\"https://en.wikipedia.org/wiki/Florida\">Florida</a>]\n",
      "find all href:  [<a href=\"https://en.wikipedia.org/wiki/Florida\">Florida</a>, <a href=\"https://en.wikipedia.org/wiki/Texas\">Texas</a>, <a href=\"https://en.wikipedia.org/wiki/Florida\">Florida</a>]\n",
      "find by string:  ['Florida', 'Florida']\n"
     ]
    }
   ],
   "source": [
    "table_rows = table_bs.find_all(name=[\"tr\"])\n",
    "\n",
    "first_row = table_rows[0]\n",
    "print(\"first row: \", first_row)\n",
    "print(\"type of first row: \", type(first_row))\n",
    "print(\"first td in the row: \", first_row.td)\n",
    "\n",
    "# Iterate through table\n",
    "for i, row in enumerate(table_rows):\n",
    "    print(\"Row \", i, \": \", row)\n",
    "    cells = row.find_all(\"td\")\n",
    "    for j, cell in enumerate(cells):\n",
    "        print(\"\\tCell \", j, \": \", cell)\n",
    "\n",
    "find_by_id = table_bs.find_all(id=\"flight\")\n",
    "print(\"find by id: \", find_by_id)\n",
    "\n",
    "find_by_link = table_bs.find_all(href=\"https://en.wikipedia.org/wiki/Florida\")\n",
    "print(\"find by link: \", find_by_link)\n",
    "\n",
    "find_all_href = table_bs.find_all(href=True)\n",
    "print(\"find all href: \", find_all_href)\n",
    "\n",
    "find_by_string = table_bs.find_all(string=\"Florida\")\n",
    "print(\"find by string: \", find_by_string)"
   ]
  },
  {
   "cell_type": "code",
   "execution_count": 14,
   "id": "5383665e",
   "metadata": {},
   "outputs": [
    {
     "data": {
      "text/html": [
       "<h3>Rocket Launch </h3>\n",
       "\n",
       "<p>\n",
       "<table class='rocket'>\n",
       "  <tr>\n",
       "    <td>Flight No</td>\n",
       "    <td>Launch site</td> \n",
       "    <td>Payload mass</td>\n",
       "  </tr>\n",
       "  <tr>\n",
       "    <td>1</td>\n",
       "    <td>Florida</td>\n",
       "    <td>300 kg</td>\n",
       "  </tr>\n",
       "  <tr>\n",
       "    <td>2</td>\n",
       "    <td>Texas</td>\n",
       "    <td>94 kg</td>\n",
       "  </tr>\n",
       "  <tr>\n",
       "    <td>3</td>\n",
       "    <td>Florida </td>\n",
       "    <td>80 kg</td>\n",
       "  </tr>\n",
       "</table>\n",
       "</p>\n",
       "<p>\n",
       "\n",
       "<h3>Pizza Party  </h3>\n",
       "\n",
       "\n",
       "<table class='pizza'>\n",
       "  <tr>\n",
       "    <td>Pizza Place</td>\n",
       "    <td>Orders</td> \n",
       "    <td>Slices </td>\n",
       "   </tr>\n",
       "  <tr>\n",
       "    <td>Domino's Pizza</td>\n",
       "    <td>10</td>\n",
       "    <td>100</td>\n",
       "  </tr>\n",
       "  <tr>\n",
       "    <td>Little Caesars</td>\n",
       "    <td>12</td>\n",
       "    <td >144 </td>\n",
       "  </tr>\n",
       "  <tr>\n",
       "    <td>Papa John's </td>\n",
       "    <td>15 </td>\n",
       "    <td>165</td>\n",
       "  </tr>\n"
      ],
      "text/plain": [
       "<IPython.core.display.HTML object>"
      ]
     },
     "metadata": {},
     "output_type": "display_data"
    }
   ],
   "source": [
    "%%html\n",
    "<h3>Rocket Launch </h3>\n",
    "\n",
    "<p>\n",
    "<table class='rocket'>\n",
    "  <tr>\n",
    "    <td>Flight No</td>\n",
    "    <td>Launch site</td> \n",
    "    <td>Payload mass</td>\n",
    "  </tr>\n",
    "  <tr>\n",
    "    <td>1</td>\n",
    "    <td>Florida</td>\n",
    "    <td>300 kg</td>\n",
    "  </tr>\n",
    "  <tr>\n",
    "    <td>2</td>\n",
    "    <td>Texas</td>\n",
    "    <td>94 kg</td>\n",
    "  </tr>\n",
    "  <tr>\n",
    "    <td>3</td>\n",
    "    <td>Florida </td>\n",
    "    <td>80 kg</td>\n",
    "  </tr>\n",
    "</table>\n",
    "</p>\n",
    "<p>\n",
    "\n",
    "<h3>Pizza Party  </h3>\n",
    "  \n",
    "    \n",
    "<table class='pizza'>\n",
    "  <tr>\n",
    "    <td>Pizza Place</td>\n",
    "    <td>Orders</td> \n",
    "    <td>Slices </td>\n",
    "   </tr>\n",
    "  <tr>\n",
    "    <td>Domino's Pizza</td>\n",
    "    <td>10</td>\n",
    "    <td>100</td>\n",
    "  </tr>\n",
    "  <tr>\n",
    "    <td>Little Caesars</td>\n",
    "    <td>12</td>\n",
    "    <td >144 </td>\n",
    "  </tr>\n",
    "  <tr>\n",
    "    <td>Papa John's </td>\n",
    "    <td>15 </td>\n",
    "    <td>165</td>\n",
    "  </tr>\n"
   ]
  },
  {
   "cell_type": "code",
   "execution_count": null,
   "id": "fc44870a",
   "metadata": {},
   "outputs": [
    {
     "data": {
      "text/plain": [
       "<table class=\"rocket\"><tr><td>Flight No</td><td>Launch site</td> <td>Payload mass</td></tr><tr><td>1</td><td>Florida</td><td>300 kg</td></tr><tr><td>2</td><td>Texas</td><td>94 kg</td></tr><tr><td>3</td><td>Florida </td><td>80 kg</td></tr></table>"
      ]
     },
     "execution_count": 16,
     "metadata": {},
     "output_type": "execute_result"
    }
   ],
   "source": [
    "two_tables=\"<h3>Rocket Launch </h3><p><table class='rocket'><tr><td>Flight No</td><td>Launch site</td> <td>Payload mass</td></tr><tr><td>1</td><td>Florida</td><td>300 kg</td></tr><tr><td>2</td><td>Texas</td><td>94 kg</td></tr><tr><td>3</td><td>Florida </td><td>80 kg</td></tr></table></p><p><h3>Pizza Party  </h3><table class='pizza'><tr><td>Pizza Place</td><td>Orders</td> <td>Slices </td></tr><tr><td>Domino's Pizza</td><td>10</td><td>100</td></tr><tr><td>Little Caesars</td><td>12</td><td >144 </td></tr><tr><td>Papa John's </td><td>15 </td><td>165</td></tr>\"\n",
    "\n",
    "two_tables_bs = BeautifulSoup(two_tables, \"html.parser\")\n",
    "\n",
    "two_tables_bs.find(\"table\")\n",
    "two_tables_bs.find(\"table\",class_='pizza')"
   ]
  }
 ],
 "metadata": {
  "kernelspec": {
   "display_name": "Python 3",
   "language": "python",
   "name": "python3"
  },
  "language_info": {
   "codemirror_mode": {
    "name": "ipython",
    "version": 3
   },
   "file_extension": ".py",
   "mimetype": "text/x-python",
   "name": "python",
   "nbconvert_exporter": "python",
   "pygments_lexer": "ipython3",
   "version": "3.13.7"
  }
 },
 "nbformat": 4,
 "nbformat_minor": 5
}
